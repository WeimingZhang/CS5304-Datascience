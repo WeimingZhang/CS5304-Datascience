{
 "cells": [
  {
   "cell_type": "code",
   "execution_count": 24,
   "metadata": {
    "collapsed": false
   },
   "outputs": [
    {
     "name": "stdout",
     "output_type": "stream",
     "text": [
      "Populating the interactive namespace from numpy and matplotlib\n"
     ]
    },
    {
     "name": "stderr",
     "output_type": "stream",
     "text": [
      "/Users/zwm/anaconda/lib/python2.7/site-packages/IPython/core/magics/pylab.py:161: UserWarning: pylab import has clobbered these variables: ['title', 'test']\n",
      "`%matplotlib` prevents importing * from pylab and numpy\n",
      "  \"\\n`%matplotlib` prevents importing * from pylab and numpy\"\n"
     ]
    }
   ],
   "source": [
    "from pyspark.context import SparkContext \n",
    "from pyspark.sql import SQLContext\n",
    "from pyspark.ml.regression import RandomForestRegressor\n",
    "from pyspark.sql import Row\n",
    "from pyspark.ml.linalg import DenseVector\n",
    "from pyspark.ml.regression import GBTRegressor\n",
    "from pyspark.ml.classification import NaiveBayes\n",
    "%pylab inline\n",
    "sc = SparkContext.getOrCreate()"
   ]
  },
  {
   "cell_type": "code",
   "execution_count": 15,
   "metadata": {
    "collapsed": false
   },
   "outputs": [
    {
     "name": "stdout",
     "output_type": "stream",
     "text": [
      "+-----------+---------+-----+--------+--------+----------+-----+\n",
      "|       AdID|  QueryID|Depth|Position|  UserID|Impression|Click|\n",
      "+-----------+---------+-----+--------+--------+----------+-----+\n",
      "|  3053284.0| 438228.0|  2.0|     1.0| 6232386|       1.0|  0.0|\n",
      "|2.0043867E7|   5423.0|  2.0|     1.0|11181639|       1.0|  0.0|\n",
      "|2.1331238E7|   2399.0|  2.0|     2.0|  170443|       1.0|  0.0|\n",
      "|2.0036558E7|  31802.0|  2.0|     2.0|11183057|       1.0|  0.0|\n",
      "|  9027213.0|      5.0|  2.0|     1.0|11183065|       1.0|  1.0|\n",
      "|2.0915048E7|    177.0|  2.0|     2.0|11183646|       1.0|  0.0|\n",
      "|  4370406.0|   1693.0|  3.0|     3.0| 3515210|       2.0|  0.0|\n",
      "|2.0644045E7|     32.0|  1.0|     1.0|  678057|       1.0|  0.0|\n",
      "|  2089356.0|1475900.0|  2.0|     2.0|11185489|       2.0|  0.0|\n",
      "|  6454129.0|   1500.0|  2.0|     2.0| 3515981|       1.0|  0.0|\n",
      "+-----------+---------+-----+--------+--------+----------+-----+\n",
      "only showing top 10 rows\n",
      "\n"
     ]
    }
   ],
   "source": [
    "# Load data.\n",
    "root = \"./track2/\"\n",
    "title = [\"AdID\", \"QueryID\", \"Depth\", \"Position\", \"UserID\", \"Impression\", \"Click\"]\n",
    "trainRDD = sc.textFile(\"./small.csv\").map(lambda x: x.split(\",\"))\n",
    "trainDF = trainRDD.toDF(title)\n",
    "trainDF.show(10)"
   ]
  },
  {
   "cell_type": "code",
   "execution_count": 32,
   "metadata": {
    "collapsed": false
   },
   "outputs": [],
   "source": [
    "# Divide labels into 100 categortes.\n",
    "trainDF = (trainDF.withColumn(\"Click\",trainDF[\"Click\"].cast(\"double\"))\n",
    "            .withColumn(\"Impression\",trainDF[\"Impression\"].cast(\"double\"))\n",
    "            .withColumn(\"AdID\",trainDF[\"AdID\"].cast(\"double\"))\n",
    "            .withColumn(\"QueryID\",trainDF[\"QueryID\"].cast(\"double\"))\n",
    "            .withColumn(\"Depth\",trainDF[\"Depth\"].cast(\"double\"))\n",
    "            .withColumn(\"Position\",trainDF[\"Position\"].cast(\"double\"))\n",
    "            .withColumn(\"UserID\",trainDF[\"UserID\"].cast(\"double\")))\n",
    "trainDF = trainDF.withColumn(\"CTR\", trainDF[\"Click\"] / trainDF[\"Impression\"])\n",
    "trainDF = trainDF.withColumn(\"100ctr\", 100 * trainDF[\"CTR\"]-(100 * trainDF[\"CTR\"] % 1))"
   ]
  },
  {
   "cell_type": "code",
   "execution_count": 17,
   "metadata": {
    "collapsed": false
   },
   "outputs": [],
   "source": [
    "# Part 1: Group Duplicates To Reduce Data Size\n",
    "def scoreClickAUC(numClicks, numImpressions, predictedCtr):\n",
    "    \"\"\"\n",
    "    Calculates the area under the ROC curve (AUC) for click rates\n",
    "    \n",
    "    Parameters\n",
    "    ----------\n",
    "    numClicks : a list containing the number of clicks\n",
    "\n",
    "    numImpressions : a list containing the number of impressions\n",
    "\n",
    "    predictedCtr : a list containing the predicted click-through rates\n",
    "\n",
    "    Returns\n",
    "    -------\n",
    "    auc : the area under the ROC curve (AUC) for click rates\n",
    "    \"\"\"\n",
    "    iSorted = sorted(range(len(predictedCtr)), key=lambda i: predictedCtr[i], reverse=True)\n",
    "    aucTemp = 0.0\n",
    "    clickSum = 0.0\n",
    "    oldClickSum = 0.0\n",
    "    noClick = 0.0\n",
    "    noClickSum = 0.0\n",
    "    print(iSorted[:10])\n",
    "    lastCtr = predictedCtr[iSorted[0]] + 1.0\n",
    "\n",
    "    for i in range(len(predictedCtr)):\n",
    "        if lastCtr != predictedCtr[iSorted[i]]: \n",
    "            aucTemp += (clickSum + oldClickSum) * noClick / 2.0        \n",
    "            oldClickSum = clickSum\n",
    "            noClick = 0.0\n",
    "            lastCtr = predictedCtr[iSorted[i]]\n",
    "        noClick += numImpressions[iSorted[i]] - numClicks[iSorted[i]]\n",
    "        noClickSum += numImpressions[iSorted[i]] - numClicks[iSorted[i]]\n",
    "        clickSum += numClicks[iSorted[i]]\n",
    "    aucTemp += (clickSum + oldClickSum) * noClick / 2.0\n",
    "    auc = aucTemp / (clickSum * noClickSum)\n",
    "    return auc"
   ]
  },
  {
   "cell_type": "code",
   "execution_count": 10,
   "metadata": {
    "collapsed": false
   },
   "outputs": [
    {
     "name": "stdout",
     "output_type": "stream",
     "text": [
      "[3864, 3865, 4290, 4291, 4294, 4510, 4512, 107459, 107916, 107917]\n",
      "0.701323839912\n"
     ]
    }
   ],
   "source": [
    "# Gradient-boosted Tree\n",
    "row = Row(\"label\", \"features\", \"impression\", \"click\")\n",
    "train = trainDF[\"100ctr\", \"AdID\", \"Depth\", \"Position\", \"QueryID\", \"UserID\", \"Impression\", \"Click\"]\n",
    "lf = train.rdd.map(lambda r: (row(r[0], DenseVector(r[1:-2]), r[-2], r[-1]))).toDF()\n",
    "trainTemp, validateTemp = lf.randomSplit([0.7, 0.3], seed=153)\n",
    "t = trainTemp.groupBy(\"label\").count()\n",
    "trainTemp = trainTemp.join(t, [\"label\"], \"outer\")\n",
    "gbt = GBTRegressor(featuresCol=\"features\", maxIter=50, labelCol=\"label\").fit(trainTemp.filter(trainTemp[\"count\"] > 15))\n",
    "predictions = gbt.transform(validateTemp)\n",
    "[pCTR,click,impression] = [predictions.select(\"prediction\").rdd.flatMap(lambda r:r).collect(),\n",
    "                           predictions.select(\"click\").rdd.flatMap(lambda r:r).collect(),\n",
    "                           predictions.select(\"impression\").rdd.flatMap(lambda r:r).collect()]\n",
    "res = scoreClickAUC(click,impression,pCTR)\n",
    "print(res)\n",
    "res = predictions.drop(\"label\")\n",
    "res = res.drop(\"features\")\n",
    "res.write.csv(\"testPrediction.csv\")"
   ]
  },
  {
   "cell_type": "code",
   "execution_count": 18,
   "metadata": {
    "collapsed": false
   },
   "outputs": [
    {
     "name": "stdout",
     "output_type": "stream",
     "text": [
      "+-----+--------------------+----------+-----+\n",
      "|label|            features|impression|click|\n",
      "+-----+--------------------+----------+-----+\n",
      "|  0.0|[2.2166806E7,3.0,...|       0.0|  0.0|\n",
      "|  0.0|[3111380.0,3.0,1....|       0.0|  0.0|\n",
      "|  0.0|[2.2111129E7,3.0,...|       0.0|  0.0|\n",
      "|  0.0|[2.2166807E7,2.0,...|       0.0|  0.0|\n",
      "|  0.0|[2.0180629E7,2.0,...|       0.0|  0.0|\n",
      "+-----+--------------------+----------+-----+\n",
      "only showing top 5 rows\n",
      "\n"
     ]
    }
   ],
   "source": [
    "testPath = root + \"test.txt\"\n",
    "testRDD = sc.textFile(testPath,2)\n",
    "test = testRDD.map(lambda x : x.split(\"\\t\"))\n",
    "titleTest = [\"Click\", \"Impression\", \"DisplayURl\", \"AdID\", \"AdvertiseId\", \"Depth\", \"Position\", \"QueryID\", \"KeywordID\",\"TitleID\",\"DescriptionID\", \"UserID\"]\n",
    "testDF = test.toDF(titleTest[2:])\n",
    "testDF = testDF.drop(\"DisplayURl\")\n",
    "testDF = testDF.drop(\"AdvertiseId\")\n",
    "testDF = testDF.drop(\"KeywordID\")\n",
    "testDF = testDF.drop(\"TitleID\")\n",
    "testDF = testDF.drop(\"DescriptionID\")\n",
    "testDF = (testDF.withColumn(\"AdID\",testDF[\"AdID\"].cast(\"double\"))\n",
    "           .withColumn(\"QueryID\",testDF[\"QueryID\"].cast(\"double\"))\n",
    "           .withColumn(\"Depth\",testDF[\"Depth\"].cast(\"double\"))\n",
    "           .withColumn(\"Position\",testDF[\"Position\"].cast(\"double\"))\n",
    "           .withColumn(\"UserID\",testDF[\"UserID\"].cast(\"double\")))\n",
    "testDF = testDF.withColumn(\"label\",testDF[\"AdID\"] * 0)\n",
    "testDF = testDF.withColumn(\"click\",testDF[\"AdID\"] * 0)\n",
    "testDF = testDF.withColumn(\"impression\",testDF[\"AdID\"] * 0)\n",
    "testDF = testDF[[\"label\", \"AdID\", \"Depth\", \"Position\", \"QueryID\", \"UserID\", \"impression\", \"click\"]]\n",
    "rowT = Row(\"label\", \"features\")\n",
    "testLF = testDF.rdd.map(lambda r: (row(r[0], DenseVector(r[1:-2]), r[-2],r[-1]))).toDF()\n",
    "testLF.show(5)"
   ]
  },
  {
   "cell_type": "code",
   "execution_count": 20,
   "metadata": {
    "collapsed": false
   },
   "outputs": [
    {
     "name": "stdout",
     "output_type": "stream",
     "text": [
      "+-----+--------------------+----------+-----+\n",
      "|label|            features|impression|click|\n",
      "+-----+--------------------+----------+-----+\n",
      "|  0.0|[1000467.0,2.0,2....|       1.0|  0.0|\n",
      "|  0.0|[1000515.0,2.0,1....|       1.0|  0.0|\n",
      "|  0.0|[1000515.0,2.0,1....|       1.0|  0.0|\n",
      "|  0.0|[1000515.0,2.0,2....|       1.0|  0.0|\n",
      "|  0.0|[1000515.0,3.0,2....|       4.0|  0.0|\n",
      "+-----+--------------------+----------+-----+\n",
      "only showing top 5 rows\n",
      "\n"
     ]
    }
   ],
   "source": [
    "validateTemp.show(5)\n",
    "preT = gbt.transform(testLF)\n",
    "preTe = preT.drop(\"features\")\n",
    "preTe.write.csv(\"testPrediction.csv\")"
   ]
  },
  {
   "cell_type": "code",
   "execution_count": 21,
   "metadata": {
    "collapsed": false
   },
   "outputs": [
    {
     "name": "stdout",
     "output_type": "stream",
     "text": [
      "+------------------+-----+----------+\n",
      "|        prediction|click|impression|\n",
      "+------------------+-----+----------+\n",
      "| 6.853852520724911|  1.0|       0.0|\n",
      "|2.8864922254844765|  1.0|       0.0|\n",
      "| 7.616224061531064|  1.0|       0.0|\n",
      "| 6.791668370371862|  2.0|       0.0|\n",
      "|    8.426942936449|  5.0|       0.0|\n",
      "+------------------+-----+----------+\n",
      "only showing top 5 rows\n",
      "\n"
     ]
    }
   ],
   "source": [
    "# Random Forest\n",
    "row = Row(\"label\", \"features\", \"click\", \"impression\")\n",
    "lf = train.rdd.map(lambda r: (row(r[0], DenseVector(r[1:5]), r[6],r[7]))).toDF()\n",
    "trainTemp, validateTemp =lf.randomSplit([0.7, 0.3], seed=121)\n",
    "randomForest = RandomForestRegressor(numTrees=100, labelCol=\"label\",featuresCol=\"features\").fit(trainTemp)\n",
    "predictions = randomForest.transform(validateTemp)\n",
    "predictions.select(\"prediction\", \"click\", \"impression\").show(5)"
   ]
  },
  {
   "cell_type": "code",
   "execution_count": 22,
   "metadata": {
    "collapsed": false
   },
   "outputs": [
    {
     "name": "stdout",
     "output_type": "stream",
     "text": [
      "[0, 1, 2, 3, 4, 5, 6, 7, 8, 9]\n",
      "0.504435915172\n"
     ]
    }
   ],
   "source": [
    "tep = predictions[\"prediction\",\"click\",\"impression\"]\n",
    "tep = tep.groupBy(\"prediction\").agg({\"click\":\"sum\", \"impression\":\"sum\"}).sort(\"prediction\", ascending = False)\n",
    "[pCTR,click,impression] = [tep.select(\"prediction\").rdd.flatMap(lambda r:r).collect(),\n",
    "                           tep.select(\"sum(click)\").rdd.flatMap(lambda r:r).collect(),\n",
    "                           tep.select(\"sum(impression)\").rdd.flatMap(lambda r:r).collect()]\n",
    "print(scoreClickAUC(click,impression,pCTR))"
   ]
  }
 ],
 "metadata": {
  "anaconda-cloud": {},
  "kernelspec": {
   "display_name": "Python 2",
   "language": "python",
   "name": "python2"
  },
  "language_info": {
   "codemirror_mode": {
    "name": "ipython",
    "version": 2
   },
   "file_extension": ".py",
   "mimetype": "text/x-python",
   "name": "python",
   "nbconvert_exporter": "python",
   "pygments_lexer": "ipython2",
   "version": "2.7.13"
  }
 },
 "nbformat": 4,
 "nbformat_minor": 0
}
